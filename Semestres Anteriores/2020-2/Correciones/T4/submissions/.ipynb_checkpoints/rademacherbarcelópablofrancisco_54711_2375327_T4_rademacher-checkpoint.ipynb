{
 "cells": [
  {
   "cell_type": "code",
   "execution_count": null,
   "metadata": {
    "colab": {
     "base_uri": "https://localhost:8080/"
    },
    "id": "WzLhrVjg1NDk",
    "outputId": "5d5d0f83-fa99-4c2c-b8ed-a60e658d2aaf"
   },
   "outputs": [
    {
     "name": "stdout",
     "output_type": "stream",
     "text": [
      "Requirement already satisfied: pyopencl in /usr/local/lib/python3.6/dist-packages (2020.3.1)\n",
      "Requirement already satisfied: numpy in /usr/local/lib/python3.6/dist-packages (from pyopencl) (1.18.5)\n",
      "Requirement already satisfied: appdirs>=1.4.0 in /usr/local/lib/python3.6/dist-packages (from pyopencl) (1.4.4)\n",
      "Requirement already satisfied: pytools>=2017.6 in /usr/local/lib/python3.6/dist-packages (from pyopencl) (2020.4.3)\n",
      "Requirement already satisfied: decorator>=3.2.0 in /usr/local/lib/python3.6/dist-packages (from pyopencl) (4.4.2)\n",
      "Requirement already satisfied: six>=1.8.0 in /usr/local/lib/python3.6/dist-packages (from pytools>=2017.6->pyopencl) (1.15.0)\n",
      "Requirement already satisfied: dataclasses>=0.7; python_version <= \"3.6\" in /usr/local/lib/python3.6/dist-packages (from pytools>=2017.6->pyopencl) (0.8)\n"
     ]
    }
   ],
   "source": [
    "!pip install pyopencl"
   ]
  },
  {
   "cell_type": "code",
   "execution_count": 1,
   "metadata": {
    "id": "c4ff-NbE1qHc"
   },
   "outputs": [],
   "source": [
    "import pyopencl as cl\n",
    "import time as tm\n",
    "import numpy as np"
   ]
  },
  {
   "cell_type": "markdown",
   "metadata": {
    "id": "KgGCK3yq9SL0"
   },
   "source": [
    "Veamos las plataformas a usar:"
   ]
  },
  {
   "cell_type": "code",
   "execution_count": 2,
   "metadata": {
    "colab": {
     "base_uri": "https://localhost:8080/"
    },
    "id": "UjtCIdx14yNl",
    "outputId": "cf25d8c9-a5a5-4d4e-d242-4c6c1510113a"
   },
   "outputs": [
    {
     "name": "stdout",
     "output_type": "stream",
     "text": [
      "Plataformas:  [<pyopencl.Platform 'Intel Gen OCL Driver' at 0x7fbb64232cc0>, <pyopencl.Platform 'Intel(R) CPU Runtime for OpenCL(TM) Applications' at 0x2238bc0>]\n",
      "Devices:  [<pyopencl.Device 'Intel(R) HD Graphics Kabylake Desktop GT1.5' on 'Intel Gen OCL Driver' at 0x7fbb64235fa0>]\n"
     ]
    }
   ],
   "source": [
    "plataforms = cl.get_platforms()\n",
    "print(\"Plataformas: \", plataforms)\n",
    "\n",
    "gpu_devices = plataforms[0].get_devices(cl.device_type.GPU)\n",
    "print(\"Devices: \", gpu_devices)"
   ]
  },
  {
   "cell_type": "markdown",
   "metadata": {
    "id": "w8Htif799GvJ"
   },
   "source": [
    "Creamos las partes real e imaginarias de los n numeros a probar, en el intervalo $(-2,2)$ tanto para las partes real e imaginarias. Esto porsue se puede demostrar que un numero complejo de módulo mayor a 2 no puede estar dentro del set:"
   ]
  },
  {
   "cell_type": "code",
   "execution_count": 3,
   "metadata": {
    "id": "zNtA1Eck6g3f"
   },
   "outputs": [],
   "source": [
    "np.random.seed(0)\n",
    "n = 200000\n",
    "real_h = np.random.rand(n).astype(np.float32)*4 - 2\n",
    "imaginaria_h = np.random.rand(n).astype(np.float32)*4 - 2"
   ]
  },
  {
   "cell_type": "markdown",
   "metadata": {
    "id": "FBHg-Zed_QrQ"
   },
   "source": [
    "Creamos los buffer:"
   ]
  },
  {
   "cell_type": "code",
   "execution_count": 4,
   "metadata": {
    "id": "zi9OiTwr-MwZ"
   },
   "outputs": [],
   "source": [
    "\n",
    "context = cl.Context(gpu_devices)\n",
    "queue = cl.CommandQueue(context)\n",
    "\n",
    "real_d = cl.Buffer(context, cl.mem_flags.READ_ONLY | cl.mem_flags.COPY_HOST_PTR, hostbuf=real_h)\n",
    "imaginaria_d = cl.Buffer(context, cl.mem_flags.READ_ONLY | cl.mem_flags.COPY_HOST_PTR, hostbuf=imaginaria_h)\n",
    "estan_d = cl.Buffer(context, cl.mem_flags.WRITE_ONLY, real_h.nbytes)"
   ]
  },
  {
   "cell_type": "markdown",
   "metadata": {
    "id": "K_R2WQyfB0ve"
   },
   "source": [
    "Creamos el programa que comprueba si cada punto esta o no en el set:"
   ]
  },
  {
   "cell_type": "code",
   "execution_count": null,
   "metadata": {
    "id": "V2v510G0B-rA"
   },
   "outputs": [],
   "source": [
    "code = \"\"\"\n",
    "__kernel void check(\n",
    "  __global float* real_d,\n",
    "  __global float* imaginaria_d,\n",
    "  __global float* estan_d)\n",
    "  {\n",
    "    int global_id = get_global_id(0);\n",
    "    int local_id = get_local_id(0);\n",
    "    int group_id = get_group_id(0); \n",
    "    int local_size = get_local_size(0);\n",
    "\n",
    "    float a = real_d[global_id];\n",
    "    float b = imaginaria_d[global_id];\n",
    "    float a_ = real_d[global_id];\n",
    "    float b_ = imaginaria_d[global_id];\n",
    "    float temp;\n",
    "    int iter = 0;\n",
    "    // mientras el modulo sea menor a 2 (o su cuadrado menor a 4)\n",
    "    while (iter<10000000 && (a*a + b*b)<4)\n",
    "    {\n",
    "      temp = a;\n",
    "      a = a*a - b*b;\n",
    "      b = 2*temp*b;\n",
    "      a += a_;\n",
    "      b += b_;\n",
    "      iter++;\n",
    "    }\n",
    "    estan_d[global_id] = iter;\n",
    "  }\n",
    "\"\"\""
   ]
  },
  {
   "cell_type": "code",
   "execution_count": null,
   "metadata": {
    "id": "3tY7dWoZFKav"
   },
   "outputs": [],
   "source": [
    "program = cl.Program(context, code).build()"
   ]
  },
  {
   "cell_type": "markdown",
   "metadata": {
    "id": "nswHvdTASRLU"
   },
   "source": [
    "Ejecutamos el programa en la gpu:"
   ]
  },
  {
   "cell_type": "code",
   "execution_count": null,
   "metadata": {
    "colab": {
     "base_uri": "https://localhost:8080/"
    },
    "id": "GrjXnTxiNnqg",
    "outputId": "8cd54192-3d79-4805-80cf-b02f9f474e2c"
   },
   "outputs": [
    {
     "data": {
      "text/plain": [
       "<pyopencl._cl.NannyEvent at 0x7fb4d614a728>"
      ]
     },
     "execution_count": 28,
     "metadata": {
      "tags": []
     },
     "output_type": "execute_result"
    }
   ],
   "source": [
    "program.check(queue, real_h.shape, None, real_d, imaginaria_d, estan_d)\n",
    "estan_h = np.empty_like(real_h)\n",
    "cl.enqueue_copy(queue, estan_h, estan_d)"
   ]
  },
  {
   "cell_type": "markdown",
   "metadata": {
    "id": "6MAL2IiBGG5U"
   },
   "source": [
    "Calculemos cuales puntos estan dentro, y dividamos eso por el total."
   ]
  },
  {
   "cell_type": "code",
   "execution_count": null,
   "metadata": {
    "colab": {
     "base_uri": "https://localhost:8080/"
    },
    "id": "xe9RBhG5FPzZ",
    "outputId": "482e8dd7-d939-42dc-f970-4ecfab69b582"
   },
   "outputs": [
    {
     "name": "stdout",
     "output_type": "stream",
     "text": [
      "El area calculada es de 1.5081600000.\n"
     ]
    }
   ],
   "source": [
    "puntos_dentro = len(list(filter(lambda x: x == 10000000, estan_h)))\n",
    "\n",
    "area = (puntos_dentro * 16) / n\n",
    "print(f\"El area calculada es de {area:.10f}.\") "
   ]
  },
  {
   "cell_type": "markdown",
   "metadata": {
    "id": "KJNUY-uakTUo"
   },
   "source": [
    "Veamos cual es el error obtenido:"
   ]
  },
  {
   "cell_type": "code",
   "execution_count": null,
   "metadata": {
    "colab": {
     "base_uri": "https://localhost:8080/"
    },
    "id": "wiU37nBVkXwp",
    "outputId": "f786ba54-b196-43d6-f7dc-2f5e68d18070"
   },
   "outputs": [
    {
     "name": "stdout",
     "output_type": "stream",
     "text": [
      "Tenemos un error del 0.1040912363%.\n"
     ]
    }
   ],
   "source": [
    "real = 1.50659177\n",
    "error = abs(real - area) / real\n",
    "print(f\"Tenemos un error del {error*100:.10f}%.\")\n",
    " "
   ]
  },
  {
   "cell_type": "code",
   "execution_count": null,
   "metadata": {
    "id": "YsXwoffUlnfS"
   },
   "outputs": [],
   "source": []
  }
 ],
 "metadata": {
  "accelerator": "GPU",
  "colab": {
   "name": "T4_IMT2112.ipynb",
   "provenance": []
  },
  "kernelspec": {
   "display_name": "Python 3",
   "language": "python",
   "name": "python3"
  },
  "language_info": {
   "codemirror_mode": {
    "name": "ipython",
    "version": 3
   },
   "file_extension": ".py",
   "mimetype": "text/x-python",
   "name": "python",
   "nbconvert_exporter": "python",
   "pygments_lexer": "ipython3",
   "version": "3.8.5"
  }
 },
 "nbformat": 4,
 "nbformat_minor": 1
}
